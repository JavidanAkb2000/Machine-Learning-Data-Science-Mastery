{
 "cells": [
  {
   "cell_type": "code",
   "execution_count": 77,
   "id": "f62036cf-ce9a-4c3f-8e69-a46ac0f66ff5",
   "metadata": {},
   "outputs": [],
   "source": [
    "import numpy as np"
   ]
  },
  {
   "cell_type": "markdown",
   "id": "56c08b5c-20f1-4cb4-9f2a-a5fbceda3ae8",
   "metadata": {},
   "source": [
    "### DataTypes and Attributes"
   ]
  },
  {
   "cell_type": "code",
   "execution_count": 78,
   "id": "25291252-9c2e-4c34-8d19-518635f959bb",
   "metadata": {},
   "outputs": [
    {
     "data": {
      "text/plain": [
       "(3,)"
      ]
     },
     "execution_count": 78,
     "metadata": {},
     "output_type": "execute_result"
    }
   ],
   "source": [
    "# Numpy's main datatype is ndarray(n-dimensional). Everyhting u see in numpy is likely a ndarray\n",
    "a = np.array([1, 2, 3])\n",
    "a.shape"
   ]
  },
  {
   "cell_type": "code",
   "execution_count": 79,
   "id": "497e1a2a-7338-4219-9e9d-5efd023d4a13",
   "metadata": {},
   "outputs": [
    {
     "name": "stdout",
     "output_type": "stream",
     "text": [
      "[[1.  2.  3.3]\n",
      " [4.  5.  6.3]]\n"
     ]
    },
    {
     "data": {
      "text/plain": [
       "numpy.ndarray"
      ]
     },
     "execution_count": 79,
     "metadata": {},
     "output_type": "execute_result"
    }
   ],
   "source": [
    "b = np.array([\n",
    "    [1, 2, 3.3], \n",
    "    [4, 5, 6.3]\n",
    "])\n",
    "print(b)\n",
    "type(b)"
   ]
  },
  {
   "cell_type": "code",
   "execution_count": 80,
   "id": "075ec967-ef55-46dd-a58d-66d54d4df395",
   "metadata": {},
   "outputs": [
    {
     "data": {
      "text/plain": [
       "array([[[ 1,  2,  3],\n",
       "        [ 4,  5,  6],\n",
       "        [ 7,  8,  9]],\n",
       "\n",
       "       [[10, 11, 12],\n",
       "        [13, 14, 16],\n",
       "        [17, 18, 19]]])"
      ]
     },
     "execution_count": 80,
     "metadata": {},
     "output_type": "execute_result"
    }
   ],
   "source": [
    "c = np.array([\n",
    "    \n",
    "        [\n",
    "            [1, 2, 3],\n",
    "            [4, 5, 6], \n",
    "            [7, 8, 9],\n",
    "        ],\n",
    "\n",
    "        [\n",
    "            [10, 11, 12],\n",
    "            [13, 14, 16], \n",
    "            [17, 18, 19],\n",
    "        ]             \n",
    "])\n",
    "\n",
    "c"
   ]
  },
  {
   "cell_type": "code",
   "execution_count": 81,
   "id": "f8e06c79-9358-425f-9d52-43a3da10e872",
   "metadata": {},
   "outputs": [
    {
     "data": {
      "text/plain": [
       "(2, 3, 3)"
      ]
     },
     "execution_count": 81,
     "metadata": {},
     "output_type": "execute_result"
    }
   ],
   "source": [
    "c.shape"
   ]
  },
  {
   "cell_type": "code",
   "execution_count": 82,
   "id": "fe3b6a17-4cd2-4fe5-a9a4-13cf439e7fc4",
   "metadata": {},
   "outputs": [
    {
     "data": {
      "text/plain": [
       "(2, 3)"
      ]
     },
     "execution_count": 82,
     "metadata": {},
     "output_type": "execute_result"
    }
   ],
   "source": [
    "b.shape"
   ]
  },
  {
   "cell_type": "code",
   "execution_count": 83,
   "id": "7b0cd16c-fe86-4184-b7c4-ea0dd87fb9d9",
   "metadata": {},
   "outputs": [
    {
     "data": {
      "text/plain": [
       "(1, 2, 3)"
      ]
     },
     "execution_count": 83,
     "metadata": {},
     "output_type": "execute_result"
    }
   ],
   "source": [
    "a.ndim , b.ndim, c.ndim"
   ]
  },
  {
   "cell_type": "code",
   "execution_count": 84,
   "id": "66da5b76-ec49-415f-9402-f88b092c1dec",
   "metadata": {},
   "outputs": [
    {
     "data": {
      "text/plain": [
       "(dtype('int64'), dtype('float64'), dtype('int64'))"
      ]
     },
     "execution_count": 84,
     "metadata": {},
     "output_type": "execute_result"
    }
   ],
   "source": [
    "a.dtype, b.dtype, c.dtype"
   ]
  },
  {
   "cell_type": "code",
   "execution_count": 85,
   "id": "10964dba-b2f4-47d8-8b54-309110646992",
   "metadata": {},
   "outputs": [
    {
     "data": {
      "text/plain": [
       "(numpy.ndarray, numpy.ndarray, numpy.ndarray)"
      ]
     },
     "execution_count": 85,
     "metadata": {},
     "output_type": "execute_result"
    }
   ],
   "source": [
    "type(a), type(b), type(c)"
   ]
  },
  {
   "cell_type": "code",
   "execution_count": 86,
   "id": "d93a1c0e-bfc3-41ff-aed2-05500dca4dd2",
   "metadata": {},
   "outputs": [
    {
     "data": {
      "text/plain": [
       "(3, 6, 18)"
      ]
     },
     "execution_count": 86,
     "metadata": {},
     "output_type": "execute_result"
    }
   ],
   "source": [
    "a.size, b.size, c.size"
   ]
  },
  {
   "cell_type": "code",
   "execution_count": 87,
   "id": "81a2e7d9-8f06-482e-bdae-c2b74e338336",
   "metadata": {},
   "outputs": [
    {
     "data": {
      "text/plain": [
       "array([[1. , 2. , 3.3],\n",
       "       [4. , 5. , 6.3]])"
      ]
     },
     "execution_count": 87,
     "metadata": {},
     "output_type": "execute_result"
    }
   ],
   "source": [
    "b"
   ]
  },
  {
   "cell_type": "code",
   "execution_count": 88,
   "id": "e0dc2639-4959-4b23-ac94-3f578bcf2cf5",
   "metadata": {},
   "outputs": [
    {
     "data": {
      "text/html": [
       "<div>\n",
       "<style scoped>\n",
       "    .dataframe tbody tr th:only-of-type {\n",
       "        vertical-align: middle;\n",
       "    }\n",
       "\n",
       "    .dataframe tbody tr th {\n",
       "        vertical-align: top;\n",
       "    }\n",
       "\n",
       "    .dataframe thead th {\n",
       "        text-align: right;\n",
       "    }\n",
       "</style>\n",
       "<table border=\"1\" class=\"dataframe\">\n",
       "  <thead>\n",
       "    <tr style=\"text-align: right;\">\n",
       "      <th></th>\n",
       "      <th>0</th>\n",
       "      <th>1</th>\n",
       "      <th>2</th>\n",
       "    </tr>\n",
       "  </thead>\n",
       "  <tbody>\n",
       "    <tr>\n",
       "      <th>0</th>\n",
       "      <td>1.0</td>\n",
       "      <td>2.0</td>\n",
       "      <td>3.3</td>\n",
       "    </tr>\n",
       "    <tr>\n",
       "      <th>1</th>\n",
       "      <td>4.0</td>\n",
       "      <td>5.0</td>\n",
       "      <td>6.3</td>\n",
       "    </tr>\n",
       "  </tbody>\n",
       "</table>\n",
       "</div>"
      ],
      "text/plain": [
       "     0    1    2\n",
       "0  1.0  2.0  3.3\n",
       "1  4.0  5.0  6.3"
      ]
     },
     "execution_count": 88,
     "metadata": {},
     "output_type": "execute_result"
    }
   ],
   "source": [
    "# Creating DataFrame from numpy array\n",
    "import pandas as pd\n",
    "df = pd.DataFrame(b)\n",
    "df"
   ]
  },
  {
   "cell_type": "markdown",
   "id": "6e814c4a-828e-492c-9dbe-a0580fef752e",
   "metadata": {},
   "source": [
    "### Creating arrays"
   ]
  },
  {
   "cell_type": "code",
   "execution_count": 89,
   "id": "756c4d5f-7f90-492c-9992-31c6f8723bfa",
   "metadata": {},
   "outputs": [],
   "source": [
    "ones = np.ones([3, 2], dtype=int)"
   ]
  },
  {
   "cell_type": "code",
   "execution_count": 90,
   "id": "eca17fd3-8efb-477a-9790-6154d6640376",
   "metadata": {},
   "outputs": [
    {
     "data": {
      "text/plain": [
       "array([[1, 1],\n",
       "       [1, 1],\n",
       "       [1, 1]])"
      ]
     },
     "execution_count": 90,
     "metadata": {},
     "output_type": "execute_result"
    }
   ],
   "source": [
    "ones"
   ]
  },
  {
   "cell_type": "code",
   "execution_count": 91,
   "id": "ce467ac6-0b85-4c4d-8484-c37594aaae1f",
   "metadata": {},
   "outputs": [
    {
     "name": "stdout",
     "output_type": "stream",
     "text": [
      "[1 2 3 4]\n"
     ]
    }
   ],
   "source": [
    "# Use of order='C' or 'F'\n",
    "\n",
    "# C - C programming \n",
    "# in order C it is like left to right row-major. it reads rows and puts them next to eachtoerh in 1D fallten array\n",
    "nums = np.array([[1, 2], [3, 4]], order='C')\n",
    "print(nums.flatten(order='C'))"
   ]
  },
  {
   "cell_type": "code",
   "execution_count": 92,
   "id": "2d0a95eb-8e2e-4e77-a5ff-ddad20c2e776",
   "metadata": {},
   "outputs": [
    {
     "name": "stdout",
     "output_type": "stream",
     "text": [
      "[1 3 2 4]\n"
     ]
    }
   ],
   "source": [
    "# Use of order='F'\n",
    "# in order F it is like column by column. u read the col then seoncd col then put them next to eachother in 1d flatten array\n",
    "nums_2 = np.array([[1, 2], [3, 4]], order='F')\n",
    "print(nums.flatten(order='F'))"
   ]
  },
  {
   "cell_type": "code",
   "execution_count": 93,
   "id": "794f3a33-bdbf-4961-9ab8-1ada73f58c5a",
   "metadata": {},
   "outputs": [
    {
     "data": {
      "text/plain": [
       "numpy.ndarray"
      ]
     },
     "execution_count": 93,
     "metadata": {},
     "output_type": "execute_result"
    }
   ],
   "source": [
    "type(ones)"
   ]
  },
  {
   "cell_type": "code",
   "execution_count": 94,
   "id": "7150c1a8-acf8-43ba-9bde-2664a191fa75",
   "metadata": {},
   "outputs": [
    {
     "data": {
      "text/plain": [
       "array([[0., 0.],\n",
       "       [0., 0.],\n",
       "       [0., 0.]])"
      ]
     },
     "execution_count": 94,
     "metadata": {},
     "output_type": "execute_result"
    }
   ],
   "source": [
    "zeros = np.zeros([3, 2])\n",
    "zeros"
   ]
  },
  {
   "cell_type": "code",
   "execution_count": 95,
   "id": "424261e3-143c-44ee-a5af-9890c81cb37d",
   "metadata": {},
   "outputs": [
    {
     "name": "stdout",
     "output_type": "stream",
     "text": [
      "[0 1 2 3 4 5 6 7 8 9]\n",
      "[0 2 4 6 8]\n"
     ]
    }
   ],
   "source": [
    "range_array = np.arange(0, 10)\n",
    "range_array2 = np.arange(0, 10, 2)\n",
    "print(range_array)\n",
    "print(range_array2)"
   ]
  },
  {
   "cell_type": "code",
   "execution_count": 96,
   "id": "fd1c715e-6d5a-4750-8f6c-5a7aeb74ffd7",
   "metadata": {},
   "outputs": [
    {
     "data": {
      "text/plain": [
       "array([[6, 4, 8, 7, 8],\n",
       "       [6, 4, 6, 8, 3],\n",
       "       [6, 6, 2, 4, 8]], dtype=int32)"
      ]
     },
     "execution_count": 96,
     "metadata": {},
     "output_type": "execute_result"
    }
   ],
   "source": [
    "random_array = np.random.randint(0, 10, size=(3, 5))\n",
    "random_array"
   ]
  },
  {
   "cell_type": "code",
   "execution_count": 97,
   "id": "74a9adf4-cb41-403d-9be2-5c3b2118c79d",
   "metadata": {},
   "outputs": [
    {
     "data": {
      "text/plain": [
       "15"
      ]
     },
     "execution_count": 97,
     "metadata": {},
     "output_type": "execute_result"
    }
   ],
   "source": [
    "random_array.size"
   ]
  },
  {
   "cell_type": "code",
   "execution_count": 98,
   "id": "aab7f9c3-6223-459a-9db6-5b28bafa1dd4",
   "metadata": {},
   "outputs": [
    {
     "data": {
      "text/plain": [
       "(3, 5)"
      ]
     },
     "execution_count": 98,
     "metadata": {},
     "output_type": "execute_result"
    }
   ],
   "source": [
    "random_array.shape"
   ]
  },
  {
   "cell_type": "markdown",
   "id": "19c3a9e5-a7a0-4892-aac9-f49e68c30e30",
   "metadata": {},
   "source": [
    "### Randomizing with seed function vs non seed"
   ]
  },
  {
   "cell_type": "code",
   "execution_count": 104,
   "id": "9a73511a-d986-4c5a-ac73-30aeb8f8cf0c",
   "metadata": {},
   "outputs": [
    {
     "data": {
      "text/plain": [
       "array([[4, 8, 2],\n",
       "       [0, 6, 2],\n",
       "       [5, 3, 3],\n",
       "       [9, 3, 8],\n",
       "       [4, 5, 0]], dtype=int32)"
      ]
     },
     "execution_count": 104,
     "metadata": {},
     "output_type": "execute_result"
    }
   ],
   "source": [
    "# Non seed\n",
    "rand_arr = np.random.randint(0, 10, [5,3])\n",
    "rand_arr\n",
    "\n",
    "# This code below keep giving pseudo random numbers"
   ]
  },
  {
   "cell_type": "code",
   "execution_count": 114,
   "id": "922d297a-be06-458f-b424-8be914b22e4a",
   "metadata": {},
   "outputs": [
    {
     "data": {
      "text/plain": [
       "array([[4, 6, 7],\n",
       "       [2, 8, 4],\n",
       "       [9, 4, 5],\n",
       "       [1, 7, 3],\n",
       "       [8, 7, 3]], dtype=int32)"
      ]
     },
     "execution_count": 114,
     "metadata": {},
     "output_type": "execute_result"
    }
   ],
   "source": [
    "# Working with seed function\n",
    "np.random.seed(25)\n",
    "rand_arr_perma = np.random.randint(0, 10, size=(5, 3))\n",
    "rand_arr_perma"
   ]
  },
  {
   "cell_type": "code",
   "execution_count": 117,
   "id": "90aeaa8c-a767-4fb5-a662-4e3293542cac",
   "metadata": {},
   "outputs": [
    {
     "data": {
      "text/plain": [
       "array([[4, 6, 7],\n",
       "       [2, 8, 4],\n",
       "       [9, 4, 5],\n",
       "       [1, 7, 3],\n",
       "       [8, 7, 3]], dtype=int32)"
      ]
     },
     "execution_count": 117,
     "metadata": {},
     "output_type": "execute_result"
    }
   ],
   "source": [
    "# Working with seed function\n",
    "np.random.seed(25)\n",
    "rand_arr_perma2 = np.random.randint(0, 10, size=(5, 3))\n",
    "rand_arr_perma2"
   ]
  },
  {
   "cell_type": "markdown",
   "id": "4e377f87-25c6-4782-b369-aa2b397cf25f",
   "metadata": {},
   "source": [
    "### Viewing arrays and matrices"
   ]
  },
  {
   "cell_type": "code",
   "execution_count": 119,
   "id": "2f694c1c-4cab-43e6-80e1-9ae758bee207",
   "metadata": {},
   "outputs": [
    {
     "data": {
      "text/plain": [
       "array([1, 3, 5, 6, 9])"
      ]
     },
     "execution_count": 119,
     "metadata": {},
     "output_type": "execute_result"
    }
   ],
   "source": [
    "# Find unique elements of array\n",
    "np.unique([1, 5 , 5, 5, 6 , 9 , 3])"
   ]
  },
  {
   "cell_type": "code",
   "execution_count": 120,
   "id": "f3106ba0-6721-4141-8c07-6d3b00e943c0",
   "metadata": {},
   "outputs": [
    {
     "data": {
      "text/plain": [
       "array([[[[4, 3, 1, 6, 0],\n",
       "         [9, 0, 2, 5, 4],\n",
       "         [9, 0, 1, 6, 1],\n",
       "         [2, 4, 2, 5, 8]],\n",
       "\n",
       "        [[0, 6, 4, 2, 5],\n",
       "         [9, 9, 6, 0, 2],\n",
       "         [4, 3, 1, 3, 5],\n",
       "         [7, 2, 3, 7, 7]],\n",
       "\n",
       "        [[8, 3, 5, 5, 5],\n",
       "         [3, 2, 8, 9, 3],\n",
       "         [0, 5, 8, 4, 3],\n",
       "         [3, 5, 2, 7, 1]]],\n",
       "\n",
       "\n",
       "       [[[6, 7, 8, 7, 3],\n",
       "         [2, 3, 1, 7, 3],\n",
       "         [9, 8, 0, 0, 3],\n",
       "         [7, 0, 0, 9, 4]],\n",
       "\n",
       "        [[4, 8, 6, 7, 0],\n",
       "         [7, 2, 6, 0, 0],\n",
       "         [4, 5, 3, 0, 0],\n",
       "         [4, 1, 2, 6, 1]],\n",
       "\n",
       "        [[5, 0, 3, 6, 1],\n",
       "         [1, 2, 8, 6, 3],\n",
       "         [4, 7, 0, 2, 9],\n",
       "         [7, 9, 5, 7, 0]]]], dtype=int32)"
      ]
     },
     "execution_count": 120,
     "metadata": {},
     "output_type": "execute_result"
    }
   ],
   "source": [
    "# multi-dim array\n",
    "mda = np.random.randint(10, size=(2, 3, 4, 5))\n",
    "mda"
   ]
  },
  {
   "cell_type": "code",
   "execution_count": 123,
   "id": "e85460e4-0dd1-4d3d-9095-6026855f8665",
   "metadata": {},
   "outputs": [
    {
     "data": {
      "text/plain": [
       "((2, 3, 4, 5), 4)"
      ]
     },
     "execution_count": 123,
     "metadata": {},
     "output_type": "execute_result"
    }
   ],
   "source": [
    "mda.shape, mda.ndim"
   ]
  },
  {
   "cell_type": "code",
   "execution_count": 140,
   "id": "e9f81761-52a0-4f09-bf2a-7429df165aeb",
   "metadata": {},
   "outputs": [
    {
     "data": {
      "text/plain": [
       "array([[[[4],\n",
       "         [9],\n",
       "         [9],\n",
       "         [2]],\n",
       "\n",
       "        [[0],\n",
       "         [9],\n",
       "         [4],\n",
       "         [7]],\n",
       "\n",
       "        [[8],\n",
       "         [3],\n",
       "         [0],\n",
       "         [3]]],\n",
       "\n",
       "\n",
       "       [[[6],\n",
       "         [2],\n",
       "         [9],\n",
       "         [7]],\n",
       "\n",
       "        [[4],\n",
       "         [7],\n",
       "         [4],\n",
       "         [4]],\n",
       "\n",
       "        [[5],\n",
       "         [1],\n",
       "         [4],\n",
       "         [7]]]], dtype=int32)"
      ]
     },
     "execution_count": 140,
     "metadata": {},
     "output_type": "execute_result"
    }
   ],
   "source": [
    "mda[:, :, :, :1]"
   ]
  },
  {
   "cell_type": "markdown",
   "id": "84f2f555-687b-415d-99c1-657c146d6d4c",
   "metadata": {},
   "source": [
    "### Manipulating and Comparing arrays"
   ]
  },
  {
   "cell_type": "markdown",
   "id": "f6cbb4dd-1d79-410f-a179-34e9673d8a37",
   "metadata": {},
   "source": [
    "### Arithmetic"
   ]
  },
  {
   "cell_type": "markdown",
   "id": "d98841fa-2ea4-4724-ab32-4f82d33064d4",
   "metadata": {},
   "source": [
    "### Aggregation"
   ]
  },
  {
   "cell_type": "code",
   "execution_count": 141,
   "id": "c2dcea56-be72-4696-bd97-5a8ee8ba73b3",
   "metadata": {},
   "outputs": [
    {
     "data": {
      "text/plain": [
       "15"
      ]
     },
     "execution_count": 141,
     "metadata": {},
     "output_type": "execute_result"
    }
   ],
   "source": [
    "listy_list = [1, 2, 3, 4, 5]\n",
    "sum(listy_list)"
   ]
  },
  {
   "cell_type": "code",
   "execution_count": 142,
   "id": "a4f3ad0d-d80a-44d6-aa75-a1971f73c36b",
   "metadata": {},
   "outputs": [
    {
     "data": {
      "text/plain": [
       "np.int64(15)"
      ]
     },
     "execution_count": 142,
     "metadata": {},
     "output_type": "execute_result"
    }
   ],
   "source": [
    "np.sum(listy_list)"
   ]
  },
  {
   "cell_type": "markdown",
   "id": "f20bbbd6-d206-4045-8d63-03b669e1c8c2",
   "metadata": {},
   "source": [
    "### Use Python's methods `(sum())` on Python datatypes and use NumPy's methods onNumPy arrays `(np.sum())`."
   ]
  },
  {
   "cell_type": "code",
   "execution_count": 145,
   "id": "cd8c37c9-edbf-4879-885c-0bb35a63b136",
   "metadata": {},
   "outputs": [
    {
     "data": {
      "text/plain": [
       "100000"
      ]
     },
     "execution_count": 145,
     "metadata": {},
     "output_type": "execute_result"
    }
   ],
   "source": [
    "# Creat a massive NumPy array\n",
    "massive_array = np.random.random(100000)\n",
    "massive_array.size"
   ]
  },
  {
   "cell_type": "code",
   "execution_count": 146,
   "id": "7b291db8-187f-4b20-80ef-71e2e89e5cc6",
   "metadata": {},
   "outputs": [
    {
     "data": {
      "text/plain": [
       "array([0.35380438, 0.84230169, 0.17700552, 0.02319725, 0.79040126,\n",
       "       0.05558842, 0.99643607, 0.45658537, 0.77937588, 0.9134714 ,\n",
       "       0.56476711, 0.63723786, 0.44677954, 0.02347484, 0.49920904,\n",
       "       0.08511006, 0.75387857, 0.19566543, 0.71008104, 0.50138233,\n",
       "       0.9738152 , 0.7528597 , 0.32873928, 0.3060469 , 0.22997551,\n",
       "       0.73200131, 0.69548578, 0.91465477, 0.0696539 , 0.74897047,\n",
       "       0.84388101, 0.37316921, 0.77329006, 0.13520393, 0.92230859,\n",
       "       0.1822872 , 0.43923665, 0.27351773, 0.66259488, 0.3205648 ,\n",
       "       0.70010372, 0.79294207, 0.05637494, 0.40287358, 0.53342425,\n",
       "       0.30273891, 0.29451736, 0.5319914 , 0.96290374, 0.87283792,\n",
       "       0.12293828, 0.08352723, 0.04545342, 0.07868297, 0.31940919,\n",
       "       0.17070963, 0.23641005, 0.43480027, 0.07323484, 0.29957206,\n",
       "       0.49121292, 0.67757407, 0.84131206, 0.80283718, 0.46722893,\n",
       "       0.51235491, 0.5954207 , 0.86350937, 0.6998373 , 0.14925522,\n",
       "       0.56191218, 0.15207818, 0.29424118, 0.48539474, 0.25093474,\n",
       "       0.47068494, 0.68852567, 0.31808493, 0.8559923 , 0.74521904,\n",
       "       0.08612841, 0.44781315, 0.92292333, 0.89591374, 0.95831933,\n",
       "       0.56401916, 0.32675555, 0.29755363, 0.2858404 , 0.41248994,\n",
       "       0.83276937, 0.87358158, 0.49380058, 0.53343786, 0.66433387,\n",
       "       0.69749104, 0.65605456, 0.23473077, 0.1559331 , 0.83372952])"
      ]
     },
     "execution_count": 146,
     "metadata": {},
     "output_type": "execute_result"
    }
   ],
   "source": [
    "massive_array[:100]"
   ]
  },
  {
   "cell_type": "code",
   "execution_count": 147,
   "id": "b4e5598d-e405-4fa6-8038-0e921fa088b2",
   "metadata": {},
   "outputs": [
    {
     "name": "stdout",
     "output_type": "stream",
     "text": [
      "21.4 ms ± 2.48 ms per loop (mean ± std. dev. of 7 runs, 100 loops each)\n",
      "108 μs ± 797 ns per loop (mean ± std. dev. of 7 runs, 10,000 loops each)\n"
     ]
    }
   ],
   "source": [
    "%timeit sum(massive_array) # Python's sum()\n",
    "%timeit np.sum(massive_array) # NumPy's sum()"
   ]
  },
  {
   "cell_type": "code",
   "execution_count": 148,
   "id": "28d90d65-f0f7-4fa3-8579-9bfc221d33a1",
   "metadata": {},
   "outputs": [],
   "source": [
    "# up there i see numpy.sum() is almost 200 times faster than python's sum()\n"
   ]
  },
  {
   "cell_type": "markdown",
   "id": "75545479-a913-4188-be54-396d91742ccd",
   "metadata": {},
   "source": [
    "### Solving delivery example with variance and std with two diff datasets"
   ]
  },
  {
   "cell_type": "code",
   "execution_count": 152,
   "id": "e779bcd7-bf19-4645-ba8d-f2b82f41ea3e",
   "metadata": {},
   "outputs": [
    {
     "name": "stdout",
     "output_type": "stream",
     "text": [
      "🧠 Team AI - Variance: 0.40, Std Dev: 0.63\n",
      "🧓 Team Boomer - Variance: 1138.05, Std Dev: 33.73\n"
     ]
    },
    {
     "name": "stderr",
     "output_type": "stream",
     "text": [
      "C:\\Users\\akber\\Desktop\\ml-courses\\sample-project\\env\\Lib\\site-packages\\IPython\\core\\pylabtools.py:170: UserWarning: Glyph 128757 (\\N{MOTOR SCOOTER}) missing from font(s) DejaVu Sans.\n",
      "  fig.canvas.print_figure(bytes_io, **kw)\n",
      "C:\\Users\\akber\\Desktop\\ml-courses\\sample-project\\env\\Lib\\site-packages\\IPython\\core\\pylabtools.py:170: UserWarning: Glyph 128168 (\\N{DASH SYMBOL}) missing from font(s) DejaVu Sans.\n",
      "  fig.canvas.print_figure(bytes_io, **kw)\n"
     ]
    },
    {
     "data": {
      "image/png": "[encoded data removed]",
      "text/plain": [
       "<Figure size 1000x500 with 1 Axes>"
      ]
     },
     "metadata": {},
     "output_type": "display_data"
    }
   ],
   "source": [
    "# TeamAI (AI-based routing)\n",
    "#TeamBoomer (your old-school, human-based team with GPS issues)\n",
    "\n",
    "# Delivery timesin minutes\n",
    "team_ai_times = np.array([29, 31, 30, 30, 30, 29, 31, 30, 30, 30])\n",
    "team_boomer_times = np.array([12, 55, 90, 8, 60, 100, 25, 70, 5, 80])\n",
    "\n",
    "# Calculate variance and std dev\n",
    "ai_variance = np.var(team_ai_times)\n",
    "boomer_variance = np.var(team_boomer_times)\n",
    "\n",
    "ai_std = np.std(team_ai_times)\n",
    "boomer_std = np.std(team_boomer_times)\n",
    "\n",
    "# print(ai_variance)\n",
    "# print(boomer_variance)\n",
    "# print('--------------')\n",
    "# print(ai_std)\n",
    "# print(boomer_std\n",
    "\n",
    "# Report with sarcasm\n",
    "print(f\"🧠 Team AI - Variance: {ai_variance:.2f}, Std Dev: {ai_std:.2f}\")\n",
    "print(f\"🧓 Team Boomer - Variance: {boomer_variance:.2f}, Std Dev: {boomer_std:.2f}\")\n",
    "\n",
    "# Visualize what's up (optional)\n",
    "import matplotlib.pyplot as plt\n",
    "\n",
    "plt.figure(figsize=(10, 5))\n",
    "plt.plot(team_ai_times, label=\"Team AI\", marker='o')\n",
    "plt.plot(team_boomer_times, label=\"Team Boomer\", marker='x')\n",
    "plt.axhline(np.mean(team_ai_times), color='green', linestyle='--', label='AI Mean')\n",
    "plt.axhline(np.mean(team_boomer_times), color='red', linestyle='--', label='Boomer Mean')\n",
    "plt.title(\"Pizza Delivery Times 🛵💨\")\n",
    "plt.ylabel(\"Minutes\")\n",
    "plt.xlabel(\"Delivery Instance\")\n",
    "plt.legend()\n",
    "plt.grid(True)\n",
    "plt.show()\n",
    "      "
   ]
  },
  {
   "cell_type": "markdown",
   "id": "404e0051-65a6-4660-8e74-71a5079b513f",
   "metadata": {},
   "source": [
    "### Reshaping and Transposing"
   ]
  },
  {
   "cell_type": "code",
   "execution_count": 154,
   "id": "36acaed2-2733-4bc0-a7fc-2e4abd914312",
   "metadata": {},
   "outputs": [
    {
     "data": {
      "text/plain": [
       "array([1, 2, 3])"
      ]
     },
     "execution_count": 154,
     "metadata": {},
     "output_type": "execute_result"
    }
   ],
   "source": [
    "a"
   ]
  },
  {
   "cell_type": "code",
   "execution_count": 155,
   "id": "a2bb03a9-fc2b-4970-96bd-21e0238dd375",
   "metadata": {},
   "outputs": [
    {
     "data": {
      "text/plain": [
       "array([[1. , 2. , 3.3],\n",
       "       [4. , 5. , 6.3]])"
      ]
     },
     "execution_count": 155,
     "metadata": {},
     "output_type": "execute_result"
    }
   ],
   "source": [
    "b"
   ]
  },
  {
   "cell_type": "code",
   "execution_count": 156,
   "id": "d9fff136-c7e4-4451-9853-002e9f3cc193",
   "metadata": {},
   "outputs": [
    {
     "data": {
      "text/plain": [
       "array([[[ 1,  2,  3],\n",
       "        [ 4,  5,  6],\n",
       "        [ 7,  8,  9]],\n",
       "\n",
       "       [[10, 11, 12],\n",
       "        [13, 14, 16],\n",
       "        [17, 18, 19]]])"
      ]
     },
     "execution_count": 156,
     "metadata": {},
     "output_type": "execute_result"
    }
   ],
   "source": [
    "c"
   ]
  },
  {
   "cell_type": "code",
   "execution_count": 157,
   "id": "c81f7742-23a1-4d43-a128-3e1ce3159c6b",
   "metadata": {},
   "outputs": [
    {
     "data": {
      "text/plain": [
       "((3,), (2, 3), (2, 3, 3))"
      ]
     },
     "execution_count": 157,
     "metadata": {},
     "output_type": "execute_result"
    }
   ],
   "source": [
    "a.shape, b.shape, c.shape"
   ]
  },
  {
   "cell_type": "code",
   "execution_count": 158,
   "id": "802c5b57-9a02-4226-9064-09c36f9e5f9a",
   "metadata": {},
   "outputs": [
    {
     "data": {
      "text/plain": [
       "array([[ 1. ,  4. ,  9.9],\n",
       "       [ 4. , 10. , 18.9]])"
      ]
     },
     "execution_count": 158,
     "metadata": {},
     "output_type": "execute_result"
    }
   ],
   "source": [
    "a*b"
   ]
  },
  {
   "cell_type": "code",
   "execution_count": 159,
   "id": "8722546c-2e74-464a-aaf7-160e8125c199",
   "metadata": {},
   "outputs": [
    {
     "data": {
      "text/plain": [
       "array([[[ 1,  4,  9],\n",
       "        [ 4, 10, 18],\n",
       "        [ 7, 16, 27]],\n",
       "\n",
       "       [[10, 22, 36],\n",
       "        [13, 28, 48],\n",
       "        [17, 36, 57]]])"
      ]
     },
     "execution_count": 159,
     "metadata": {},
     "output_type": "execute_result"
    }
   ],
   "source": [
    "a*c"
   ]
  },
  {
   "cell_type": "code",
   "execution_count": 161,
   "id": "77cfcd20-8ef0-491b-874b-15a32098e70a",
   "metadata": {},
   "outputs": [
    {
     "ename": "ValueError",
     "evalue": "operands could not be broadcast together with shapes (2,3) (2,3,3) ",
     "output_type": "error",
     "traceback": [
      "\u001b[31m---------------------------------------------------------------------------\u001b[39m",
      "\u001b[31mValueError\u001b[39m                                Traceback (most recent call last)",
      "\u001b[36mCell\u001b[39m\u001b[36m \u001b[39m\u001b[32mIn[161]\u001b[39m\u001b[32m, line 2\u001b[39m\n\u001b[32m      1\u001b[39m \u001b[38;5;66;03m# Row count of 'b' doesnt match the col count of 'c' so ERROR\u001b[39;00m\n\u001b[32m----> \u001b[39m\u001b[32m2\u001b[39m b*c\n",
      "\u001b[31mValueError\u001b[39m: operands could not be broadcast together with shapes (2,3) (2,3,3) "
     ]
    }
   ],
   "source": [
    "# Row count of 'b' doesnt match the col count of 'c' so ERROR\n",
    "b*c"
   ]
  },
  {
   "cell_type": "code",
   "execution_count": 162,
   "id": "f5810cb0-5397-468a-89f8-c312eb95c637",
   "metadata": {},
   "outputs": [
    {
     "data": {
      "text/plain": [
       "array([[1. , 2. , 3.3],\n",
       "       [4. , 5. , 6.3]])"
      ]
     },
     "execution_count": 162,
     "metadata": {},
     "output_type": "execute_result"
    }
   ],
   "source": [
    "b"
   ]
  },
  {
   "cell_type": "code",
   "execution_count": 163,
   "id": "8c0ae01c-fc95-4172-9a09-1503a2b7562b",
   "metadata": {},
   "outputs": [
    {
     "data": {
      "text/plain": [
       "array([[[ 1,  2,  3],\n",
       "        [ 4,  5,  6],\n",
       "        [ 7,  8,  9]],\n",
       "\n",
       "       [[10, 11, 12],\n",
       "        [13, 14, 16],\n",
       "        [17, 18, 19]]])"
      ]
     },
     "execution_count": 163,
     "metadata": {},
     "output_type": "execute_result"
    }
   ],
   "source": [
    "c"
   ]
  },
  {
   "cell_type": "code",
   "execution_count": 164,
   "id": "9c7ebc32-f0d2-4b2e-8bea-8deba400bb1d",
   "metadata": {},
   "outputs": [
    {
     "data": {
      "text/plain": [
       "((2, 3), (2, 3, 3))"
      ]
     },
     "execution_count": 164,
     "metadata": {},
     "output_type": "execute_result"
    }
   ],
   "source": [
    "b.shape, c.shape"
   ]
  },
  {
   "cell_type": "code",
   "execution_count": 169,
   "id": "12038792-ed22-4406-8f6a-14725e9443fe",
   "metadata": {},
   "outputs": [],
   "source": [
    "b = b.reshape(2, 3, 1)"
   ]
  },
  {
   "cell_type": "code",
   "execution_count": 170,
   "id": "765378e7-b999-4f5e-a02f-0e830c693418",
   "metadata": {},
   "outputs": [
    {
     "data": {
      "text/plain": [
       "array([[[  1. ,   2. ,   3. ],\n",
       "        [  8. ,  10. ,  12. ],\n",
       "        [ 23.1,  26.4,  29.7]],\n",
       "\n",
       "       [[ 40. ,  44. ,  48. ],\n",
       "        [ 65. ,  70. ,  80. ],\n",
       "        [107.1, 113.4, 119.7]]])"
      ]
     },
     "execution_count": 170,
     "metadata": {},
     "output_type": "execute_result"
    }
   ],
   "source": [
    "b*c"
   ]
  },
  {
   "cell_type": "code",
   "execution_count": 171,
   "id": "f683e92e-be06-47be-8c4a-1d593f0683cb",
   "metadata": {},
   "outputs": [
    {
     "data": {
      "text/plain": [
       "array([1, 2, 3])"
      ]
     },
     "execution_count": 171,
     "metadata": {},
     "output_type": "execute_result"
    }
   ],
   "source": [
    "# Transpose\n",
    "a"
   ]
  },
  {
   "cell_type": "code",
   "execution_count": 172,
   "id": "1b62b413-305e-4977-bbbc-cbd347b14739",
   "metadata": {},
   "outputs": [
    {
     "data": {
      "text/plain": [
       "array([1, 2, 3])"
      ]
     },
     "execution_count": 172,
     "metadata": {},
     "output_type": "execute_result"
    }
   ],
   "source": [
    "a.T"
   ]
  },
  {
   "cell_type": "code",
   "execution_count": 176,
   "id": "a96e958c-58d1-465b-bea7-70cbd4d6e2bc",
   "metadata": {},
   "outputs": [
    {
     "data": {
      "text/plain": [
       "(2, 3, 1)"
      ]
     },
     "execution_count": 176,
     "metadata": {},
     "output_type": "execute_result"
    }
   ],
   "source": [
    "b.shape"
   ]
  },
  {
   "cell_type": "code",
   "execution_count": 174,
   "id": "403b578a-74c2-45ef-9ebc-d5ed6f6c25fd",
   "metadata": {},
   "outputs": [
    {
     "data": {
      "text/plain": [
       "array([[[1. , 4. ],\n",
       "        [2. , 5. ],\n",
       "        [3.3, 6.3]]])"
      ]
     },
     "execution_count": 174,
     "metadata": {},
     "output_type": "execute_result"
    }
   ],
   "source": [
    "b.T"
   ]
  },
  {
   "cell_type": "code",
   "execution_count": 177,
   "id": "53987304-62d4-445c-a40b-4a1a1d33f767",
   "metadata": {},
   "outputs": [
    {
     "data": {
      "text/plain": [
       "(1, 3, 2)"
      ]
     },
     "execution_count": 177,
     "metadata": {},
     "output_type": "execute_result"
    }
   ],
   "source": [
    "b.T.shape"
   ]
  },
  {
   "cell_type": "markdown",
   "id": "044c9d96-5faf-44c4-9e8b-6f70c75c72d4",
   "metadata": {},
   "source": [
    "### Dot Product"
   ]
  },
  {
   "cell_type": "code",
   "execution_count": 183,
   "id": "8452d1d5-9a26-4b6c-840a-996537d0e1dc",
   "metadata": {},
   "outputs": [
    {
     "data": {
      "text/plain": [
       "array([[5, 8, 9],\n",
       "       [5, 0, 0],\n",
       "       [1, 7, 6],\n",
       "       [9, 2, 4],\n",
       "       [5, 2, 4]], dtype=int32)"
      ]
     },
     "execution_count": 183,
     "metadata": {},
     "output_type": "execute_result"
    }
   ],
   "source": [
    "np.random.seed(1)\n",
    "matrix1 = np.random.randint(0, 10, size=(5, 3))\n",
    "matrix1"
   ]
  },
  {
   "cell_type": "code",
   "execution_count": 186,
   "id": "f464099a-db35-4844-a5f4-8fcea4a4cea8",
   "metadata": {},
   "outputs": [
    {
     "data": {
      "text/plain": [
       "array([[5, 0, 3],\n",
       "       [3, 7, 9],\n",
       "       [3, 5, 2],\n",
       "       [4, 7, 6],\n",
       "       [8, 8, 1]], dtype=int32)"
      ]
     },
     "execution_count": 186,
     "metadata": {},
     "output_type": "execute_result"
    }
   ],
   "source": [
    "np.random.seed(0)\n",
    "matrix2 = np.random.randint(0, 10, size=(5, 3))\n",
    "matrix2"
   ]
  },
  {
   "cell_type": "code",
   "execution_count": 187,
   "id": "3412b56d-08d2-4c8b-a014-b8cf2e736679",
   "metadata": {},
   "outputs": [
    {
     "data": {
      "text/plain": [
       "array([[25,  0, 27],\n",
       "       [15,  0,  0],\n",
       "       [ 3, 35, 12],\n",
       "       [36, 14, 24],\n",
       "       [40, 16,  4]], dtype=int32)"
      ]
     },
     "execution_count": 187,
     "metadata": {},
     "output_type": "execute_result"
    }
   ],
   "source": [
    "# Element wise matrix multiplication\n",
    "matrix1*matrix2"
   ]
  },
  {
   "cell_type": "code",
   "execution_count": 188,
   "id": "cb8c607f-ae77-45c7-9338-254191258197",
   "metadata": {},
   "outputs": [
    {
     "ename": "ValueError",
     "evalue": "shapes (5,3) and (5,3) not aligned: 3 (dim 1) != 5 (dim 0)",
     "output_type": "error",
     "traceback": [
      "\u001b[31m---------------------------------------------------------------------------\u001b[39m",
      "\u001b[31mValueError\u001b[39m                                Traceback (most recent call last)",
      "\u001b[36mCell\u001b[39m\u001b[36m \u001b[39m\u001b[32mIn[188]\u001b[39m\u001b[32m, line 2\u001b[39m\n\u001b[32m      1\u001b[39m \u001b[38;5;66;03m# Dot product\u001b[39;00m\n\u001b[32m----> \u001b[39m\u001b[32m2\u001b[39m np.dot(matrix1, matrix2)\n",
      "\u001b[31mValueError\u001b[39m: shapes (5,3) and (5,3) not aligned: 3 (dim 1) != 5 (dim 0)"
     ]
    }
   ],
   "source": [
    "# Dot product\n",
    "np.dot(matrix1, matrix2)\n",
    "\n",
    "# row to col multiplicaitno requires same aountof row and same amoutn of column size. otherwise error"
   ]
  },
  {
   "cell_type": "code",
   "execution_count": 192,
   "id": "1c3cc82b-e5ee-4f87-ad95-f305a8ca28b5",
   "metadata": {},
   "outputs": [],
   "source": [
    "# Transpose appears to solve that dot product problem of 5x3 * 5x3\n",
    "# We get the transpose of left side matrix to convert from 5x3 to 3x5\n",
    "\n",
    "matrix1 = matrix1.T"
   ]
  },
  {
   "cell_type": "code",
   "execution_count": 193,
   "id": "925759b3-7cad-4d66-b7ac-b58ca40b9349",
   "metadata": {},
   "outputs": [
    {
     "data": {
      "text/plain": [
       "array([[5, 5, 1, 9, 5],\n",
       "       [8, 0, 7, 2, 2],\n",
       "       [9, 0, 6, 4, 4]], dtype=int32)"
      ]
     },
     "execution_count": 193,
     "metadata": {},
     "output_type": "execute_result"
    }
   ],
   "source": [
    "matrix1"
   ]
  },
  {
   "cell_type": "code",
   "execution_count": 194,
   "id": "51e37cbf-bf73-4825-b616-db59189411ca",
   "metadata": {},
   "outputs": [
    {
     "ename": "ValueError",
     "evalue": "operands could not be broadcast together with shapes (3,5) (5,3) ",
     "output_type": "error",
     "traceback": [
      "\u001b[31m---------------------------------------------------------------------------\u001b[39m",
      "\u001b[31mValueError\u001b[39m                                Traceback (most recent call last)",
      "\u001b[36mCell\u001b[39m\u001b[36m \u001b[39m\u001b[32mIn[194]\u001b[39m\u001b[32m, line 1\u001b[39m\n\u001b[32m----> \u001b[39m\u001b[32m1\u001b[39m matrix1*matrix2\n",
      "\u001b[31mValueError\u001b[39m: operands could not be broadcast together with shapes (3,5) (5,3) "
     ]
    }
   ],
   "source": [
    "# but here broadacsting or vectorization gonna fail bcz shape is not exactly same\n",
    "matrix1*matrix2"
   ]
  },
  {
   "cell_type": "code",
   "execution_count": 195,
   "id": "63d725eb-198f-4c27-ac5e-4f281e895bd8",
   "metadata": {},
   "outputs": [
    {
     "data": {
      "text/plain": [
       "array([[119, 143, 121],\n",
       "       [ 85,  65,  52],\n",
       "       [111,  90,  67]], dtype=int32)"
      ]
     },
     "execution_count": 195,
     "metadata": {},
     "output_type": "execute_result"
    }
   ],
   "source": [
    "# However dot product gonna work\n",
    "np.dot(matrix1, matrix2)"
   ]
  },
  {
   "cell_type": "code",
   "execution_count": 211,
   "id": "876ab325-d2eb-4b82-b576-a6b05f56c71d",
   "metadata": {},
   "outputs": [],
   "source": [
    "# Let's create DataFrame version of nut-butter-sales csv file\n",
    "import pandas as pd"
   ]
  },
  {
   "cell_type": "code",
   "execution_count": 207,
   "id": "556399f0-9201-4c76-953e-1822aca4e5c0",
   "metadata": {},
   "outputs": [
    {
     "data": {
      "text/plain": [
       "array([[ 0,  5,  1],\n",
       "       [ 8,  1, 19],\n",
       "       [16, 13,  8],\n",
       "       [ 8, 16,  5],\n",
       "       [ 2, 11, 11]], dtype=int32)"
      ]
     },
     "execution_count": 207,
     "metadata": {},
     "output_type": "execute_result"
    }
   ],
   "source": [
    "np.random.seed(999)\n",
    "sales_amount = np.random.randint(20, size=(5, 3))\n",
    "sales_amount"
   ]
  },
  {
   "cell_type": "code",
   "execution_count": 216,
   "id": "fd0fcbe8-738c-4bbb-8dd9-17527a14af4f",
   "metadata": {},
   "outputs": [
    {
     "data": {
      "text/html": [
       "<div>\n",
       "<style scoped>\n",
       "    .dataframe tbody tr th:only-of-type {\n",
       "        vertical-align: middle;\n",
       "    }\n",
       "\n",
       "    .dataframe tbody tr th {\n",
       "        vertical-align: top;\n",
       "    }\n",
       "\n",
       "    .dataframe thead th {\n",
       "        text-align: right;\n",
       "    }\n",
       "</style>\n",
       "<table border=\"1\" class=\"dataframe\">\n",
       "  <thead>\n",
       "    <tr style=\"text-align: right;\">\n",
       "      <th></th>\n",
       "      <th>Almond butter</th>\n",
       "      <th>Peanut butter</th>\n",
       "      <th>Cashew butter</th>\n",
       "    </tr>\n",
       "  </thead>\n",
       "  <tbody>\n",
       "    <tr>\n",
       "      <th>Mon</th>\n",
       "      <td>0</td>\n",
       "      <td>5</td>\n",
       "      <td>1</td>\n",
       "    </tr>\n",
       "    <tr>\n",
       "      <th>Tues</th>\n",
       "      <td>8</td>\n",
       "      <td>1</td>\n",
       "      <td>19</td>\n",
       "    </tr>\n",
       "    <tr>\n",
       "      <th>Wed</th>\n",
       "      <td>16</td>\n",
       "      <td>13</td>\n",
       "      <td>8</td>\n",
       "    </tr>\n",
       "    <tr>\n",
       "      <th>Thurs</th>\n",
       "      <td>8</td>\n",
       "      <td>16</td>\n",
       "      <td>5</td>\n",
       "    </tr>\n",
       "    <tr>\n",
       "      <th>Fri</th>\n",
       "      <td>2</td>\n",
       "      <td>11</td>\n",
       "      <td>11</td>\n",
       "    </tr>\n",
       "  </tbody>\n",
       "</table>\n",
       "</div>"
      ],
      "text/plain": [
       "       Almond butter  Peanut butter  Cashew butter\n",
       "Mon                0              5              1\n",
       "Tues               8              1             19\n",
       "Wed               16             13              8\n",
       "Thurs              8             16              5\n",
       "Fri                2             11             11"
      ]
     },
     "execution_count": 216,
     "metadata": {},
     "output_type": "execute_result"
    }
   ],
   "source": [
    "weekly_sales = pd.DataFrame(sales_amount, index=[\"Mon\", \"Tues\", \"Wed\", \"Thurs\", \"Fri\"], columns=[\"Almond butter\", \"Peanut butter\", \"Cashew butter\"])\n",
    "weekly_sales"
   ]
  },
  {
   "cell_type": "code",
   "execution_count": 228,
   "id": "575eeee8-6e75-4343-b0e0-3d59aff04abb",
   "metadata": {},
   "outputs": [
    {
     "ename": "ValueError",
     "evalue": "Shape of passed values is (3, 1), indices imply (1, 3)",
     "output_type": "error",
     "traceback": [
      "\u001b[31m---------------------------------------------------------------------------\u001b[39m",
      "\u001b[31mValueError\u001b[39m                                Traceback (most recent call last)",
      "\u001b[36mCell\u001b[39m\u001b[36m \u001b[39m\u001b[32mIn[228]\u001b[39m\u001b[32m, line 4\u001b[39m\n\u001b[32m      1\u001b[39m \u001b[38;5;66;03m# Creating the prices\u001b[39;00m\n\u001b[32m      2\u001b[39m prices = np.array([\u001b[32m10\u001b[39m, \u001b[32m8\u001b[39m, \u001b[32m12\u001b[39m])\n\u001b[32m----> \u001b[39m\u001b[32m4\u001b[39m butter_prices = pd.DataFrame(prices, index=[\u001b[33m\"\u001b[39m\u001b[33mPrice\u001b[39m\u001b[33m\"\u001b[39m], columns=[\u001b[33m\"\u001b[39m\u001b[33mAlmond butter\u001b[39m\u001b[33m\"\u001b[39m, \u001b[33m\"\u001b[39m\u001b[33mPeanut butter\u001b[39m\u001b[33m\"\u001b[39m, \u001b[33m\"\u001b[39m\u001b[33mCashew butter\u001b[39m\u001b[33m\"\u001b[39m])\n",
      "\u001b[36mFile \u001b[39m\u001b[32m~\\Desktop\\ml-courses\\sample-project\\env\\Lib\\site-packages\\pandas\\core\\frame.py:827\u001b[39m, in \u001b[36mDataFrame.__init__\u001b[39m\u001b[34m(self, data, index, columns, dtype, copy)\u001b[39m\n\u001b[32m    816\u001b[39m         mgr = dict_to_mgr(\n\u001b[32m    817\u001b[39m             \u001b[38;5;66;03m# error: Item \"ndarray\" of \"Union[ndarray, Series, Index]\" has no\u001b[39;00m\n\u001b[32m    818\u001b[39m             \u001b[38;5;66;03m# attribute \"name\"\u001b[39;00m\n\u001b[32m   (...)\u001b[39m\u001b[32m    824\u001b[39m             copy=_copy,\n\u001b[32m    825\u001b[39m         )\n\u001b[32m    826\u001b[39m     \u001b[38;5;28;01melse\u001b[39;00m:\n\u001b[32m--> \u001b[39m\u001b[32m827\u001b[39m         mgr = ndarray_to_mgr(\n\u001b[32m    828\u001b[39m             data,\n\u001b[32m    829\u001b[39m             index,\n\u001b[32m    830\u001b[39m             columns,\n\u001b[32m    831\u001b[39m             dtype=dtype,\n\u001b[32m    832\u001b[39m             copy=copy,\n\u001b[32m    833\u001b[39m             typ=manager,\n\u001b[32m    834\u001b[39m         )\n\u001b[32m    836\u001b[39m \u001b[38;5;66;03m# For data is list-like, or Iterable (will consume into list)\u001b[39;00m\n\u001b[32m    837\u001b[39m \u001b[38;5;28;01melif\u001b[39;00m is_list_like(data):\n",
      "\u001b[36mFile \u001b[39m\u001b[32m~\\Desktop\\ml-courses\\sample-project\\env\\Lib\\site-packages\\pandas\\core\\internals\\construction.py:336\u001b[39m, in \u001b[36mndarray_to_mgr\u001b[39m\u001b[34m(values, index, columns, dtype, copy, typ)\u001b[39m\n\u001b[32m    331\u001b[39m \u001b[38;5;66;03m# _prep_ndarraylike ensures that values.ndim == 2 at this point\u001b[39;00m\n\u001b[32m    332\u001b[39m index, columns = _get_axes(\n\u001b[32m    333\u001b[39m     values.shape[\u001b[32m0\u001b[39m], values.shape[\u001b[32m1\u001b[39m], index=index, columns=columns\n\u001b[32m    334\u001b[39m )\n\u001b[32m--> \u001b[39m\u001b[32m336\u001b[39m _check_values_indices_shape_match(values, index, columns)\n\u001b[32m    338\u001b[39m \u001b[38;5;28;01mif\u001b[39;00m typ == \u001b[33m\"\u001b[39m\u001b[33marray\u001b[39m\u001b[33m\"\u001b[39m:\n\u001b[32m    339\u001b[39m     \u001b[38;5;28;01mif\u001b[39;00m \u001b[38;5;28missubclass\u001b[39m(values.dtype.type, \u001b[38;5;28mstr\u001b[39m):\n",
      "\u001b[36mFile \u001b[39m\u001b[32m~\\Desktop\\ml-courses\\sample-project\\env\\Lib\\site-packages\\pandas\\core\\internals\\construction.py:420\u001b[39m, in \u001b[36m_check_values_indices_shape_match\u001b[39m\u001b[34m(values, index, columns)\u001b[39m\n\u001b[32m    418\u001b[39m passed = values.shape\n\u001b[32m    419\u001b[39m implied = (\u001b[38;5;28mlen\u001b[39m(index), \u001b[38;5;28mlen\u001b[39m(columns))\n\u001b[32m--> \u001b[39m\u001b[32m420\u001b[39m \u001b[38;5;28;01mraise\u001b[39;00m \u001b[38;5;167;01mValueError\u001b[39;00m(\u001b[33mf\u001b[39m\u001b[33m\"\u001b[39m\u001b[33mShape of passed values is \u001b[39m\u001b[38;5;132;01m{\u001b[39;00mpassed\u001b[38;5;132;01m}\u001b[39;00m\u001b[33m, indices imply \u001b[39m\u001b[38;5;132;01m{\u001b[39;00mimplied\u001b[38;5;132;01m}\u001b[39;00m\u001b[33m\"\u001b[39m)\n",
      "\u001b[31mValueError\u001b[39m: Shape of passed values is (3, 1), indices imply (1, 3)"
     ]
    }
   ],
   "source": [
    "# # Creating the prices\n",
    "# prices = np.array([10, 8, 12])\n",
    "\n",
    "# butter_prices = pd.DataFrame(prices, index=[\"Price\"], columns=[\"Almond butter\", \"Peanut butter\", \"Cashew butter\"])\n",
    "\n",
    "# # Not going to work becasue shape of prices is 3,1 but in DataFrame we sending 1,3. Therefore we gotta reshape it to 1,3"
   ]
  },
  {
   "cell_type": "code",
   "execution_count": 240,
   "id": "1017255d-f422-4c5c-9bbc-8e8ea44c8dd0",
   "metadata": {},
   "outputs": [],
   "source": [
    "\n",
    "# Creating the prices\n",
    "prices = np.array([10, 8, 12])\n",
    "butter_prices = pd.DataFrame(prices.reshape(1,3), index=[\"Price\"], columns=[\"Almond butter\", \"Peanut butter\", \"Cashew butter\"])\n",
    "\n",
    "# Not going to work becasue shape of prices is 3,1 but in DataFrame we sending 1,3. Therefore we gotta reshape it to 1,3"
   ]
  },
  {
   "cell_type": "code",
   "execution_count": 241,
   "id": "8a9b48cd-ba7d-4dfc-a0e9-f062e52d300f",
   "metadata": {},
   "outputs": [
    {
     "data": {
      "text/plain": [
       "array([10,  8, 12])"
      ]
     },
     "execution_count": 241,
     "metadata": {},
     "output_type": "execute_result"
    }
   ],
   "source": [
    "prices"
   ]
  },
  {
   "cell_type": "code",
   "execution_count": 242,
   "id": "fd0e8913-2813-4f1f-95d1-b73c531c0936",
   "metadata": {},
   "outputs": [
    {
     "data": {
      "text/plain": [
       "(3,)"
      ]
     },
     "execution_count": 242,
     "metadata": {},
     "output_type": "execute_result"
    }
   ],
   "source": [
    "prices.shape"
   ]
  },
  {
   "cell_type": "code",
   "execution_count": 243,
   "id": "bcd9fe33-d044-4d02-bc16-5fb538ad3c6f",
   "metadata": {},
   "outputs": [
    {
     "data": {
      "text/html": [
       "<div>\n",
       "<style scoped>\n",
       "    .dataframe tbody tr th:only-of-type {\n",
       "        vertical-align: middle;\n",
       "    }\n",
       "\n",
       "    .dataframe tbody tr th {\n",
       "        vertical-align: top;\n",
       "    }\n",
       "\n",
       "    .dataframe thead th {\n",
       "        text-align: right;\n",
       "    }\n",
       "</style>\n",
       "<table border=\"1\" class=\"dataframe\">\n",
       "  <thead>\n",
       "    <tr style=\"text-align: right;\">\n",
       "      <th></th>\n",
       "      <th>Almond butter</th>\n",
       "      <th>Peanut butter</th>\n",
       "      <th>Cashew butter</th>\n",
       "    </tr>\n",
       "  </thead>\n",
       "  <tbody>\n",
       "    <tr>\n",
       "      <th>Price</th>\n",
       "      <td>10</td>\n",
       "      <td>8</td>\n",
       "      <td>12</td>\n",
       "    </tr>\n",
       "  </tbody>\n",
       "</table>\n",
       "</div>"
      ],
      "text/plain": [
       "       Almond butter  Peanut butter  Cashew butter\n",
       "Price             10              8             12"
      ]
     },
     "execution_count": 243,
     "metadata": {},
     "output_type": "execute_result"
    }
   ],
   "source": [
    "butter_prices"
   ]
  },
  {
   "cell_type": "code",
   "execution_count": 244,
   "id": "babd2879-95e4-4d2c-9fba-5076e95aee23",
   "metadata": {},
   "outputs": [
    {
     "data": {
      "text/html": [
       "<div>\n",
       "<style scoped>\n",
       "    .dataframe tbody tr th:only-of-type {\n",
       "        vertical-align: middle;\n",
       "    }\n",
       "\n",
       "    .dataframe tbody tr th {\n",
       "        vertical-align: top;\n",
       "    }\n",
       "\n",
       "    .dataframe thead th {\n",
       "        text-align: right;\n",
       "    }\n",
       "</style>\n",
       "<table border=\"1\" class=\"dataframe\">\n",
       "  <thead>\n",
       "    <tr style=\"text-align: right;\">\n",
       "      <th></th>\n",
       "      <th>Almond butter</th>\n",
       "      <th>Peanut butter</th>\n",
       "      <th>Cashew butter</th>\n",
       "    </tr>\n",
       "  </thead>\n",
       "  <tbody>\n",
       "    <tr>\n",
       "      <th>Mon</th>\n",
       "      <td>0</td>\n",
       "      <td>5</td>\n",
       "      <td>1</td>\n",
       "    </tr>\n",
       "    <tr>\n",
       "      <th>Tues</th>\n",
       "      <td>8</td>\n",
       "      <td>1</td>\n",
       "      <td>19</td>\n",
       "    </tr>\n",
       "    <tr>\n",
       "      <th>Wed</th>\n",
       "      <td>16</td>\n",
       "      <td>13</td>\n",
       "      <td>8</td>\n",
       "    </tr>\n",
       "    <tr>\n",
       "      <th>Thurs</th>\n",
       "      <td>8</td>\n",
       "      <td>16</td>\n",
       "      <td>5</td>\n",
       "    </tr>\n",
       "    <tr>\n",
       "      <th>Fri</th>\n",
       "      <td>2</td>\n",
       "      <td>11</td>\n",
       "      <td>11</td>\n",
       "    </tr>\n",
       "  </tbody>\n",
       "</table>\n",
       "</div>"
      ],
      "text/plain": [
       "       Almond butter  Peanut butter  Cashew butter\n",
       "Mon                0              5              1\n",
       "Tues               8              1             19\n",
       "Wed               16             13              8\n",
       "Thurs              8             16              5\n",
       "Fri                2             11             11"
      ]
     },
     "execution_count": 244,
     "metadata": {},
     "output_type": "execute_result"
    }
   ],
   "source": [
    "# Creating the total sales\n",
    "weekly_sales"
   ]
  },
  {
   "cell_type": "code",
   "execution_count": 245,
   "id": "78896ec8-6464-4626-a1f3-20ff30c5a5b7",
   "metadata": {},
   "outputs": [
    {
     "ename": "ValueError",
     "evalue": "shapes (3,) and (5,3) not aligned: 3 (dim 0) != 5 (dim 0)",
     "output_type": "error",
     "traceback": [
      "\u001b[31m---------------------------------------------------------------------------\u001b[39m",
      "\u001b[31mValueError\u001b[39m                                Traceback (most recent call last)",
      "\u001b[36mCell\u001b[39m\u001b[36m \u001b[39m\u001b[32mIn[245]\u001b[39m\u001b[32m, line 1\u001b[39m\n\u001b[32m----> \u001b[39m\u001b[32m1\u001b[39m total_sales = prices.dot(sales_amount)\n",
      "\u001b[31mValueError\u001b[39m: shapes (3,) and (5,3) not aligned: 3 (dim 0) != 5 (dim 0)"
     ]
    }
   ],
   "source": [
    "total_sales = prices.dot(sales_amount)"
   ]
  },
  {
   "cell_type": "code",
   "execution_count": 246,
   "id": "e80f272b-3210-4652-9a14-096df5441620",
   "metadata": {},
   "outputs": [
    {
     "data": {
      "text/plain": [
       "array([[ 0,  8, 16,  8,  2],\n",
       "       [ 5,  1, 13, 16, 11],\n",
       "       [ 1, 19,  8,  5, 11]], dtype=int32)"
      ]
     },
     "execution_count": 246,
     "metadata": {},
     "output_type": "execute_result"
    }
   ],
   "source": [
    "sales_amount.T"
   ]
  },
  {
   "cell_type": "code",
   "execution_count": 253,
   "id": "9f005278-1d7e-4178-8213-2bb7285408ed",
   "metadata": {},
   "outputs": [
    {
     "data": {
      "text/plain": [
       "array([ 52, 316, 360, 268, 240])"
      ]
     },
     "execution_count": 253,
     "metadata": {},
     "output_type": "execute_result"
    }
   ],
   "source": [
    "total_sales = prices.dot(sales_amount.T)\n",
    "total_sales"
   ]
  },
  {
   "cell_type": "code",
   "execution_count": 254,
   "id": "81c6382c-1358-40b1-8078-fd07756213ff",
   "metadata": {},
   "outputs": [
    {
     "data": {
      "text/html": [
       "<div>\n",
       "<style scoped>\n",
       "    .dataframe tbody tr th:only-of-type {\n",
       "        vertical-align: middle;\n",
       "    }\n",
       "\n",
       "    .dataframe tbody tr th {\n",
       "        vertical-align: top;\n",
       "    }\n",
       "\n",
       "    .dataframe thead th {\n",
       "        text-align: right;\n",
       "    }\n",
       "</style>\n",
       "<table border=\"1\" class=\"dataframe\">\n",
       "  <thead>\n",
       "    <tr style=\"text-align: right;\">\n",
       "      <th></th>\n",
       "      <th>Almond butter</th>\n",
       "      <th>Peanut butter</th>\n",
       "      <th>Cashew butter</th>\n",
       "    </tr>\n",
       "  </thead>\n",
       "  <tbody>\n",
       "    <tr>\n",
       "      <th>Price</th>\n",
       "      <td>10</td>\n",
       "      <td>8</td>\n",
       "      <td>12</td>\n",
       "    </tr>\n",
       "  </tbody>\n",
       "</table>\n",
       "</div>"
      ],
      "text/plain": [
       "       Almond butter  Peanut butter  Cashew butter\n",
       "Price             10              8             12"
      ]
     },
     "execution_count": 254,
     "metadata": {},
     "output_type": "execute_result"
    }
   ],
   "source": [
    "butter_prices"
   ]
  },
  {
   "cell_type": "code",
   "execution_count": 256,
   "id": "5821ebc7-cb55-4478-8b59-4a3f124467dc",
   "metadata": {},
   "outputs": [
    {
     "data": {
      "text/html": [
       "<div>\n",
       "<style scoped>\n",
       "    .dataframe tbody tr th:only-of-type {\n",
       "        vertical-align: middle;\n",
       "    }\n",
       "\n",
       "    .dataframe tbody tr th {\n",
       "        vertical-align: top;\n",
       "    }\n",
       "\n",
       "    .dataframe thead th {\n",
       "        text-align: right;\n",
       "    }\n",
       "</style>\n",
       "<table border=\"1\" class=\"dataframe\">\n",
       "  <thead>\n",
       "    <tr style=\"text-align: right;\">\n",
       "      <th></th>\n",
       "      <th>Almond butter</th>\n",
       "      <th>Peanut butter</th>\n",
       "      <th>Cashew butter</th>\n",
       "    </tr>\n",
       "  </thead>\n",
       "  <tbody>\n",
       "    <tr>\n",
       "      <th>Mon</th>\n",
       "      <td>0</td>\n",
       "      <td>5</td>\n",
       "      <td>1</td>\n",
       "    </tr>\n",
       "    <tr>\n",
       "      <th>Tues</th>\n",
       "      <td>8</td>\n",
       "      <td>1</td>\n",
       "      <td>19</td>\n",
       "    </tr>\n",
       "    <tr>\n",
       "      <th>Wed</th>\n",
       "      <td>16</td>\n",
       "      <td>13</td>\n",
       "      <td>8</td>\n",
       "    </tr>\n",
       "    <tr>\n",
       "      <th>Thurs</th>\n",
       "      <td>8</td>\n",
       "      <td>16</td>\n",
       "      <td>5</td>\n",
       "    </tr>\n",
       "    <tr>\n",
       "      <th>Fri</th>\n",
       "      <td>2</td>\n",
       "      <td>11</td>\n",
       "      <td>11</td>\n",
       "    </tr>\n",
       "  </tbody>\n",
       "</table>\n",
       "</div>"
      ],
      "text/plain": [
       "       Almond butter  Peanut butter  Cashew butter\n",
       "Mon                0              5              1\n",
       "Tues               8              1             19\n",
       "Wed               16             13              8\n",
       "Thurs              8             16              5\n",
       "Fri                2             11             11"
      ]
     },
     "execution_count": 256,
     "metadata": {},
     "output_type": "execute_result"
    }
   ],
   "source": [
    "weekly_sales"
   ]
  },
  {
   "cell_type": "code",
   "execution_count": 257,
   "id": "aedbc4fe-6b4d-4c7e-bbe3-67a4bcdc348a",
   "metadata": {},
   "outputs": [
    {
     "data": {
      "text/plain": [
       "((1, 3), (5, 3))"
      ]
     },
     "execution_count": 257,
     "metadata": {},
     "output_type": "execute_result"
    }
   ],
   "source": [
    "butter_prices.shape, weekly_sales.shape"
   ]
  },
  {
   "cell_type": "code",
   "execution_count": 258,
   "id": "b96acf07-209e-4621-b37a-802cc0c94285",
   "metadata": {},
   "outputs": [
    {
     "data": {
      "text/plain": [
       "array([10,  8, 12])"
      ]
     },
     "execution_count": 258,
     "metadata": {},
     "output_type": "execute_result"
    }
   ],
   "source": [
    "prices"
   ]
  },
  {
   "cell_type": "code",
   "execution_count": 259,
   "id": "2a1a229f-e624-4498-b790-9b3ced906bf0",
   "metadata": {},
   "outputs": [
    {
     "data": {
      "text/html": [
       "<div>\n",
       "<style scoped>\n",
       "    .dataframe tbody tr th:only-of-type {\n",
       "        vertical-align: middle;\n",
       "    }\n",
       "\n",
       "    .dataframe tbody tr th {\n",
       "        vertical-align: top;\n",
       "    }\n",
       "\n",
       "    .dataframe thead th {\n",
       "        text-align: right;\n",
       "    }\n",
       "</style>\n",
       "<table border=\"1\" class=\"dataframe\">\n",
       "  <thead>\n",
       "    <tr style=\"text-align: right;\">\n",
       "      <th></th>\n",
       "      <th>Almond butter</th>\n",
       "      <th>Peanut butter</th>\n",
       "      <th>Cashew butter</th>\n",
       "    </tr>\n",
       "  </thead>\n",
       "  <tbody>\n",
       "    <tr>\n",
       "      <th>Price</th>\n",
       "      <td>10</td>\n",
       "      <td>8</td>\n",
       "      <td>12</td>\n",
       "    </tr>\n",
       "  </tbody>\n",
       "</table>\n",
       "</div>"
      ],
      "text/plain": [
       "       Almond butter  Peanut butter  Cashew butter\n",
       "Price             10              8             12"
      ]
     },
     "execution_count": 259,
     "metadata": {},
     "output_type": "execute_result"
    }
   ],
   "source": [
    "butter_prices"
   ]
  },
  {
   "cell_type": "code",
   "execution_count": 260,
   "id": "37e201d8-f96d-4247-94ff-95718b4a2f5b",
   "metadata": {},
   "outputs": [
    {
     "data": {
      "text/plain": [
       "array([[ 0,  5,  1],\n",
       "       [ 8,  1, 19],\n",
       "       [16, 13,  8],\n",
       "       [ 8, 16,  5],\n",
       "       [ 2, 11, 11]], dtype=int32)"
      ]
     },
     "execution_count": 260,
     "metadata": {},
     "output_type": "execute_result"
    }
   ],
   "source": [
    "sales_amount"
   ]
  },
  {
   "cell_type": "code",
   "execution_count": 261,
   "id": "98891367-1a1e-4fb8-a865-07c055e1a36a",
   "metadata": {},
   "outputs": [
    {
     "data": {
      "text/html": [
       "<div>\n",
       "<style scoped>\n",
       "    .dataframe tbody tr th:only-of-type {\n",
       "        vertical-align: middle;\n",
       "    }\n",
       "\n",
       "    .dataframe tbody tr th {\n",
       "        vertical-align: top;\n",
       "    }\n",
       "\n",
       "    .dataframe thead th {\n",
       "        text-align: right;\n",
       "    }\n",
       "</style>\n",
       "<table border=\"1\" class=\"dataframe\">\n",
       "  <thead>\n",
       "    <tr style=\"text-align: right;\">\n",
       "      <th></th>\n",
       "      <th>Mon</th>\n",
       "      <th>Tues</th>\n",
       "      <th>Wed</th>\n",
       "      <th>Thurs</th>\n",
       "      <th>Fri</th>\n",
       "    </tr>\n",
       "  </thead>\n",
       "  <tbody>\n",
       "    <tr>\n",
       "      <th>Price</th>\n",
       "      <td>52</td>\n",
       "      <td>316</td>\n",
       "      <td>360</td>\n",
       "      <td>268</td>\n",
       "      <td>240</td>\n",
       "    </tr>\n",
       "  </tbody>\n",
       "</table>\n",
       "</div>"
      ],
      "text/plain": [
       "       Mon  Tues  Wed  Thurs  Fri\n",
       "Price   52   316  360    268  240"
      ]
     },
     "execution_count": 261,
     "metadata": {},
     "output_type": "execute_result"
    }
   ],
   "source": [
    "daily_sales = butter_prices.dot(weekly_sales.T)\n",
    "daily_sales"
   ]
  },
  {
   "cell_type": "code",
   "execution_count": 264,
   "id": "ed762d5b-da43-44ca-9bd4-7da1ea27b95c",
   "metadata": {},
   "outputs": [
    {
     "ename": "ValueError",
     "evalue": "Columns must be same length as key",
     "output_type": "error",
     "traceback": [
      "\u001b[31m---------------------------------------------------------------------------\u001b[39m",
      "\u001b[31mValueError\u001b[39m                                Traceback (most recent call last)",
      "\u001b[32m~\\AppData\\Local\\Temp\\ipykernel_12684\\4184608353.py\u001b[39m in \u001b[36m?\u001b[39m\u001b[34m()\u001b[39m\n\u001b[32m----> \u001b[39m\u001b[32m1\u001b[39m weekly_sales[\u001b[33m\"Total ($)\"\u001b[39m] = daily_sales\n\u001b[32m      2\u001b[39m weekly_sales\n",
      "\u001b[32m~\\Desktop\\ml-courses\\sample-project\\env\\Lib\\site-packages\\pandas\\core\\frame.py\u001b[39m in \u001b[36m?\u001b[39m\u001b[34m(self, key, value)\u001b[39m\n\u001b[32m   4297\u001b[39m             self._setitem_frame(key, value)\n\u001b[32m   4298\u001b[39m         \u001b[38;5;28;01melif\u001b[39;00m isinstance(key, (Series, np.ndarray, list, Index)):\n\u001b[32m   4299\u001b[39m             self._setitem_array(key, value)\n\u001b[32m   4300\u001b[39m         \u001b[38;5;28;01melif\u001b[39;00m isinstance(value, DataFrame):\n\u001b[32m-> \u001b[39m\u001b[32m4301\u001b[39m             self._set_item_frame_value(key, value)\n\u001b[32m   4302\u001b[39m         elif (\n\u001b[32m   4303\u001b[39m             is_list_like(value)\n\u001b[32m   4304\u001b[39m             \u001b[38;5;28;01mand\u001b[39;00m \u001b[38;5;28;01mnot\u001b[39;00m self.columns.is_unique\n",
      "\u001b[32m~\\Desktop\\ml-courses\\sample-project\\env\\Lib\\site-packages\\pandas\\core\\frame.py\u001b[39m in \u001b[36m?\u001b[39m\u001b[34m(self, key, value)\u001b[39m\n\u001b[32m   4425\u001b[39m             loc = self.columns.get_loc(key)\n\u001b[32m   4426\u001b[39m             cols = self.columns[loc]\n\u001b[32m   4427\u001b[39m             len_cols = \u001b[32m1\u001b[39m \u001b[38;5;28;01mif\u001b[39;00m is_scalar(cols) \u001b[38;5;28;01mor\u001b[39;00m isinstance(cols, tuple) \u001b[38;5;28;01melse\u001b[39;00m len(cols)\n\u001b[32m   4428\u001b[39m             \u001b[38;5;28;01mif\u001b[39;00m len_cols != len(value.columns):\n\u001b[32m-> \u001b[39m\u001b[32m4429\u001b[39m                 \u001b[38;5;28;01mraise\u001b[39;00m ValueError(\u001b[33m\"Columns must be same length as key\"\u001b[39m)\n\u001b[32m   4430\u001b[39m \n\u001b[32m   4431\u001b[39m             \u001b[38;5;66;03m# align right-hand-side columns if self.columns\u001b[39;00m\n\u001b[32m   4432\u001b[39m             \u001b[38;5;66;03m# is multi-index and self[key] is a sub-frame\u001b[39;00m\n",
      "\u001b[31mValueError\u001b[39m: Columns must be same length as key"
     ]
    }
   ],
   "source": [
    "# Wont work bcz wrong shape. Look down. I solved there\n",
    "weekly_sales[\"Total ($)\"] = daily_sales\n",
    "weekly_sales"
   ]
  },
  {
   "cell_type": "code",
   "execution_count": 265,
   "id": "087dbba7-e8c1-4af9-9acf-c735191b3fd4",
   "metadata": {},
   "outputs": [
    {
     "data": {
      "text/html": [
       "<div>\n",
       "<style scoped>\n",
       "    .dataframe tbody tr th:only-of-type {\n",
       "        vertical-align: middle;\n",
       "    }\n",
       "\n",
       "    .dataframe tbody tr th {\n",
       "        vertical-align: top;\n",
       "    }\n",
       "\n",
       "    .dataframe thead th {\n",
       "        text-align: right;\n",
       "    }\n",
       "</style>\n",
       "<table border=\"1\" class=\"dataframe\">\n",
       "  <thead>\n",
       "    <tr style=\"text-align: right;\">\n",
       "      <th></th>\n",
       "      <th>Almond butter</th>\n",
       "      <th>Peanut butter</th>\n",
       "      <th>Cashew butter</th>\n",
       "      <th>Total ($)</th>\n",
       "    </tr>\n",
       "  </thead>\n",
       "  <tbody>\n",
       "    <tr>\n",
       "      <th>Mon</th>\n",
       "      <td>0</td>\n",
       "      <td>5</td>\n",
       "      <td>1</td>\n",
       "      <td>52</td>\n",
       "    </tr>\n",
       "    <tr>\n",
       "      <th>Tues</th>\n",
       "      <td>8</td>\n",
       "      <td>1</td>\n",
       "      <td>19</td>\n",
       "      <td>316</td>\n",
       "    </tr>\n",
       "    <tr>\n",
       "      <th>Wed</th>\n",
       "      <td>16</td>\n",
       "      <td>13</td>\n",
       "      <td>8</td>\n",
       "      <td>360</td>\n",
       "    </tr>\n",
       "    <tr>\n",
       "      <th>Thurs</th>\n",
       "      <td>8</td>\n",
       "      <td>16</td>\n",
       "      <td>5</td>\n",
       "      <td>268</td>\n",
       "    </tr>\n",
       "    <tr>\n",
       "      <th>Fri</th>\n",
       "      <td>2</td>\n",
       "      <td>11</td>\n",
       "      <td>11</td>\n",
       "      <td>240</td>\n",
       "    </tr>\n",
       "  </tbody>\n",
       "</table>\n",
       "</div>"
      ],
      "text/plain": [
       "       Almond butter  Peanut butter  Cashew butter  Total ($)\n",
       "Mon                0              5              1         52\n",
       "Tues               8              1             19        316\n",
       "Wed               16             13              8        360\n",
       "Thurs              8             16              5        268\n",
       "Fri                2             11             11        240"
      ]
     },
     "execution_count": 265,
     "metadata": {},
     "output_type": "execute_result"
    }
   ],
   "source": [
    "weekly_sales[\"Total ($)\"] = daily_sales.T\n",
    "weekly_sales"
   ]
  },
  {
   "cell_type": "markdown",
   "id": "4e65ce36-0ef6-4a6e-9561-f04d1e5b57e0",
   "metadata": {},
   "source": [
    "### Comparison Operators"
   ]
  },
  {
   "cell_type": "code",
   "execution_count": 274,
   "id": "bb468c3b-6d8b-4299-8c1a-d691ffa288e4",
   "metadata": {},
   "outputs": [],
   "source": [
    "test_array = np.array([1, 2, 3,4])\n",
    "test_array_2 = np.array([0, 6, 9,3])"
   ]
  },
  {
   "cell_type": "code",
   "execution_count": 277,
   "id": "42f6ba19-6af4-4503-a55e-658d52511824",
   "metadata": {},
   "outputs": [],
   "source": [
    "bool_result = test_array >= test_array_2"
   ]
  },
  {
   "cell_type": "code",
   "execution_count": 278,
   "id": "50c57673-4f0a-4344-8c4e-146605dc619d",
   "metadata": {},
   "outputs": [
    {
     "data": {
      "text/plain": [
       "array([ True, False, False,  True])"
      ]
     },
     "execution_count": 278,
     "metadata": {},
     "output_type": "execute_result"
    }
   ],
   "source": [
    "bool_result"
   ]
  },
  {
   "cell_type": "code",
   "execution_count": 279,
   "id": "9f508596-84de-4134-9b0d-910425b923f9",
   "metadata": {},
   "outputs": [
    {
     "data": {
      "text/plain": [
       "(numpy.ndarray, dtype('bool'))"
      ]
     },
     "execution_count": 279,
     "metadata": {},
     "output_type": "execute_result"
    }
   ],
   "source": [
    "type(bool_result), bool_result.dtype"
   ]
  },
  {
   "cell_type": "markdown",
   "id": "24c58115-004f-404c-af10-d69c63fc5d74",
   "metadata": {},
   "source": [
    "### Sorting Arrays"
   ]
  },
  {
   "cell_type": "code",
   "execution_count": 283,
   "id": "5a90f39d-bc82-4a75-9e47-c5e232885080",
   "metadata": {},
   "outputs": [
    {
     "data": {
      "text/plain": [
       "array([ 3,  4,  5,  6,  7,  8, 10])"
      ]
     },
     "execution_count": 283,
     "metadata": {},
     "output_type": "execute_result"
    }
   ],
   "source": [
    "my_arr = np.array([6, 5, 8, 3, 4,7 , 10])\n",
    "sorted_one = np.sort(my_arr)\n",
    "sorted_one"
   ]
  },
  {
   "cell_type": "code",
   "execution_count": 284,
   "id": "e6018cf3-df62-45e2-b0dc-3c62ba71ce64",
   "metadata": {},
   "outputs": [
    {
     "data": {
      "text/plain": [
       "array([[ 4,  6, 18,  7,  6],\n",
       "       [17,  5, 19,  6, 11],\n",
       "       [ 0,  9,  4, 13, 11]], dtype=int32)"
      ]
     },
     "execution_count": 284,
     "metadata": {},
     "output_type": "execute_result"
    }
   ],
   "source": [
    "randomized_array = np.random.randint(20, size=(3, 5))\n",
    "randomized_array"
   ]
  },
  {
   "cell_type": "code",
   "execution_count": 288,
   "id": "db5656ce-aa59-4508-84a9-3c0a49463e78",
   "metadata": {},
   "outputs": [
    {
     "data": {
      "text/plain": [
       "array([1, 2, 1, 2, 1])"
      ]
     },
     "execution_count": 288,
     "metadata": {},
     "output_type": "execute_result"
    }
   ],
   "source": [
    "np.argmax(randomized_array, axis=0)"
   ]
  },
  {
   "cell_type": "code",
   "execution_count": 287,
   "id": "11b3a9fc-9910-419c-be83-68a23efe7577",
   "metadata": {},
   "outputs": [
    {
     "data": {
      "text/plain": [
       "array([2, 2, 3])"
      ]
     },
     "execution_count": 287,
     "metadata": {},
     "output_type": "execute_result"
    }
   ],
   "source": [
    "np.argmax(randomized_array, axis=1)"
   ]
  },
  {
   "cell_type": "markdown",
   "id": "02b5c1b3-1e88-4fe9-9e9a-b9158e7d12be",
   "metadata": {},
   "source": [
    "### Practical Example - NumPy in ACTION"
   ]
  },
  {
   "cell_type": "code",
   "execution_count": 294,
   "id": "5bfa99d0-ee96-4774-a045-4e4cb0c6dc46",
   "metadata": {},
   "outputs": [],
   "source": [
    "from IPython.display import Image"
   ]
  },
  {
   "cell_type": "code",
   "execution_count": 295,
   "id": "b351c818-3159-4241-9e42-ad2f8abdab21",
   "metadata": {},
   "outputs": [
    {
     "data": {
      "image/jpeg": "[encoded data removed]",
      "text/plain": [
       "<IPython.core.display.Image object>"
      ]
     },
     "execution_count": 295,
     "metadata": {},
     "output_type": "execute_result"
    }
   ],
   "source": [
    "Image(filename=\"numpy-panda.jpeg\")"
   ]
  },
  {
   "cell_type": "code",
   "execution_count": 308,
   "id": "ea444de1-5041-49d9-ba30-b03f57056b27",
   "metadata": {},
   "outputs": [
    {
     "data": {
      "text/plain": [
       "array([[[14, 27, 17],\n",
       "        [14, 27, 17],\n",
       "        [12, 28, 17],\n",
       "        ...,\n",
       "        [42, 35, 25],\n",
       "        [42, 35, 25],\n",
       "        [41, 34, 24]],\n",
       "\n",
       "       [[14, 27, 17],\n",
       "        [14, 27, 17],\n",
       "        [12, 28, 17],\n",
       "        ...,\n",
       "        [42, 35, 25],\n",
       "        [42, 35, 25],\n",
       "        [42, 35, 25]],\n",
       "\n",
       "       [[13, 26, 16],\n",
       "        [14, 27, 17],\n",
       "        [12, 28, 17],\n",
       "        ...,\n",
       "        [42, 35, 25],\n",
       "        [42, 35, 25],\n",
       "        [42, 35, 25]],\n",
       "\n",
       "       ...,\n",
       "\n",
       "       [[47, 32, 27],\n",
       "        [48, 33, 28],\n",
       "        [48, 33, 26],\n",
       "        ...,\n",
       "        [ 6,  6,  8],\n",
       "        [ 6,  6,  8],\n",
       "        [ 6,  6,  8]],\n",
       "\n",
       "       [[39, 24, 19],\n",
       "        [40, 25, 18],\n",
       "        [42, 27, 20],\n",
       "        ...,\n",
       "        [ 6,  6,  8],\n",
       "        [ 6,  6,  8],\n",
       "        [ 6,  6,  8]],\n",
       "\n",
       "       [[32, 17, 10],\n",
       "        [33, 18, 11],\n",
       "        [36, 21, 14],\n",
       "        ...,\n",
       "        [ 6,  6,  8],\n",
       "        [ 6,  6,  8],\n",
       "        [ 6,  6,  8]]], shape=(852, 1280, 3), dtype=uint8)"
      ]
     },
     "execution_count": 308,
     "metadata": {},
     "output_type": "execute_result"
    }
   ],
   "source": [
    "# Turn an image into a numpy array\n",
    "from matplotlib.image import imread\n",
    "panda = imread(\"numpy-panda.jpeg\")\n",
    "# print(type(panda))\n",
    "# print(panda.dtype)\n",
    "# print(panda)\n",
    "# print(panda.shape)\n",
    "\n",
    "panda"
   ]
  },
  {
   "cell_type": "code",
   "execution_count": 309,
   "id": "2b71c15d-4071-4d16-a751-30dd4071613f",
   "metadata": {},
   "outputs": [
    {
     "data": {
      "text/plain": [
       "(3271680, (852, 1280, 3), 3)"
      ]
     },
     "execution_count": 309,
     "metadata": {},
     "output_type": "execute_result"
    }
   ],
   "source": [
    "panda.size, panda.shape, panda.ndim"
   ]
  },
  {
   "cell_type": "code",
   "execution_count": 310,
   "id": "ec691ab7-9bff-4b60-ac48-182288c7d41a",
   "metadata": {},
   "outputs": [
    {
     "data": {
      "text/plain": [
       "array([[[14, 27, 17],\n",
       "        [14, 27, 17],\n",
       "        [12, 28, 17],\n",
       "        ...,\n",
       "        [42, 35, 25],\n",
       "        [42, 35, 25],\n",
       "        [41, 34, 24]],\n",
       "\n",
       "       [[14, 27, 17],\n",
       "        [14, 27, 17],\n",
       "        [12, 28, 17],\n",
       "        ...,\n",
       "        [42, 35, 25],\n",
       "        [42, 35, 25],\n",
       "        [42, 35, 25]],\n",
       "\n",
       "       [[13, 26, 16],\n",
       "        [14, 27, 17],\n",
       "        [12, 28, 17],\n",
       "        ...,\n",
       "        [42, 35, 25],\n",
       "        [42, 35, 25],\n",
       "        [42, 35, 25]],\n",
       "\n",
       "       [[13, 26, 16],\n",
       "        [14, 27, 17],\n",
       "        [13, 29, 18],\n",
       "        ...,\n",
       "        [42, 35, 25],\n",
       "        [42, 35, 25],\n",
       "        [42, 35, 25]],\n",
       "\n",
       "       [[13, 26, 16],\n",
       "        [14, 27, 17],\n",
       "        [13, 29, 18],\n",
       "        ...,\n",
       "        [43, 34, 25],\n",
       "        [42, 33, 24],\n",
       "        [42, 33, 24]]], shape=(5, 1280, 3), dtype=uint8)"
      ]
     },
     "execution_count": 310,
     "metadata": {},
     "output_type": "execute_result"
    }
   ],
   "source": [
    "panda[:5]"
   ]
  },
  {
   "cell_type": "code",
   "execution_count": null,
   "id": "b6fad67c-2e99-4503-a632-1f88f10a3bbd",
   "metadata": {},
   "outputs": [],
   "source": []
  }
 ],
 "metadata": {
  "kernelspec": {
   "display_name": "Python 3 (ipykernel)",
   "language": "python",
   "name": "python3"
  },
  "language_info": {
   "codemirror_mode": {
    "name": "ipython",
    "version": 3
   },
   "file_extension": ".py",
   "mimetype": "text/x-python",
   "name": "python",
   "nbconvert_exporter": "python",
   "pygments_lexer": "ipython3",
   "version": "3.13.5"
  }
 },
 "nbformat": 4,
 "nbformat_minor": 5
}
